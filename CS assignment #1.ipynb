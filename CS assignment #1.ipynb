{
 "cells": [
  {
   "cell_type": "markdown",
   "metadata": {
    "id": "nEeXrnvD96Z3"
   },
   "source": [
    "# Formal Analyses Assignment 1, Fall 2021\n",
    "## **Logical Thinking**"
   ]
  },
  {
   "cell_type": "markdown",
   "metadata": {
    "id": "i-eF0zU496Z5"
   },
   "source": [
    "## **<font color='orange'>OVERVIEW</font>**\n",
    "\n",
    "For this assignment, you will craft arguments both for and against a claim related to a Cornerstone “Big Question.” You must then analyze the arguments in full, making strong applications of all of the logical thinking HCs. The arguments can be as simple or as sophisticated as you wish! Keep in mind that more complicated arguments will require a richer, more careful analysis. This may be a good way to showcase your knowledge, but could also lead to more flaws. Moreover, in pursuit of the appropriate difficulty level, you’ll notice several “Optional” problems throughout the assignment to challenge yourself. These will only be scored if they are completed correctly with a thorough explanation. If you attempt an optional challenge but do not succeed, you will not be penalized with a low score.\n",
    "\n",
    "## **<font color='orange'>FORMATTING & HC GUIDELINES</font>**\n",
    "\n",
    "You must complete all tasks within this pre-formatted Jupyter notebook. **Please read and follow the formatting guidelines and the HC Guidelines in the assignment instructions on Forum (near the top and bottom of the instructions respectively).**"
   ]
  },
  {
   "cell_type": "markdown",
   "metadata": {
    "id": "HSPhYqBatOjA"
   },
   "source": [
    "## **<font color='orange'>BIG QUESTION → ARGUABLE CLAIM</font>**\n",
    "\n",
    "The main goal of the Cornerstone courses is to establish a foundation in the HCs that span the four core competencies: thinking critically, thinking creatively, interacting effectively, and communicating effectively. To help students learn the HCs and build practical knowledge, the curriculum is organized around a number of “Big Questions” that recur in multiple Cornerstones. The Big Questions provide some background content so that the HCs can be practiced and applied in a variety of relevant contexts. They also allow students to reflect on the applicability of the HCs in a larger context. For this assignment, you will argue two sides of a claim thematically related to a Big Question. You may choose any Big Question from the [Cornerstone Curriculum Map](https://hub.minerva.kgi.edu/academics/curriculum/foundation-year/cornerstone-curriculum-map/) that interests you. It does not matter whether the Big Question you choose has been introduced in your class yet or not. Next, develop an arguable stance on a component of the Big Question. **Please review ALL of the guidelines and examples provided to ensure your claim is arguable and sufficiently narrow/specific..**"
   ]
  },
  {
   "cell_type": "markdown",
   "metadata": {
    "id": "LOhrAWfMav4r"
   },
   "source": [
    "### Identify your chosen Big Question, your arguable claim (X), and a competing stance (Y).\n"
   ]
  },
  {
   "cell_type": "markdown",
   "metadata": {
    "id": "8fqhfLembXN4"
   },
   "source": [
    "Big Question: How should we feed the world?\n",
    "\n",
    "Arguable claim: X = The diets of high-meat consumers should be shifted toward plant-based foods \n",
    "\n",
    "Competing stance: Y = The diets of high-meat consumers should not be shifted toward plant-based foods \n",
    "\n"
   ]
  },
  {
   "cell_type": "markdown",
   "metadata": {
    "id": "Ue7u-lWFcRcQ"
   },
   "source": [
    "### Explain briefly why you chose this Big Question and how you identified a claim to argue for and against (<100 words). "
   ]
  },
  {
   "cell_type": "markdown",
   "metadata": {
    "id": "3Pm5iQD5cR-F"
   },
   "source": [
    "'By 2050 the world’s population will increase by two billion or three billion, which will likely double the demand for food, according to several studies. Demand will also rise because many more people will have higher incomes, which means they will eat more, especially meat' (Foley (2011)) that will result in not only worsening environmental situation but also in the probable food shortage increase since while 60 percent of the world’s crops are meant for people, more than a half of that number, which is 35 percent is used for animal feed.(Foley (2011))"
   ]
  },
  {
   "cell_type": "markdown",
   "metadata": {
    "id": "JR5RblKV96Z8"
   },
   "source": [
    "## **<font color='orange'>PART 1</font>**\n",
    "\n",
    "#### In this part, you will work with one side of the stance only (X). Craft two brief arguments in favor of this claim using deductive reasoning. One argument should be a valid deduction and one should contain a fallacy. Write these arguments in natural language in simple terms with clear use of logical connectives and atomic sentences so that it is amenable for the following analysis. Read the guidelines and examples in the assignment instructions for help crafting your arguments. [#deduction, #fallacies, #algorithms]\n"
   ]
  },
  {
   "cell_type": "markdown",
   "metadata": {
    "id": "zvjIU7IxtOjD"
   },
   "source": [
    "### Write your stance and your deductive arguments."
   ]
  },
  {
   "cell_type": "markdown",
   "metadata": {
    "id": "SY12Lk3_tOjH"
   },
   "source": [
    "X = The diets of high-meat consumers should be shifted toward plant-based foods"
   ]
  },
  {
   "cell_type": "markdown",
   "metadata": {
    "id": "6iJbP1rO96Z9"
   },
   "source": [
    "\n",
    "\n",
    "P1 - To produce one kilogram of beef requires 25 kilograms of grain to feed the animal and roughly 15,000 liters of water.(Foley (2011))  \n",
    "\n",
    "P2 - Water and land are scarce in many parts of the world.(Foley (2011))\n",
    "\n",
    "P3 - Due to the 2 facts mentioned above, excessive meat manufacture leads to inefficient use of resources. \n",
    "\n",
    "P4 - Since excessive meat manufacture leads to inefficient use of resources, the consumption of meat should be decreased.\n",
    "\n",
    "P5 - Either we decrease the consumption of meant or we will devastate the resuorses of our planet.\n",
    "\n",
    "P6 - If we don't want to devastate the resourses of our palnet, the diets of high-meat consumers should be shifted toward plant-based foods.\n",
    "\n",
    "X - Therefore, the diets of high-meat consumers should be shifted toward plant-based foods\n",
    "\n",
    "\n",
    "\n",
    "\n",
    "\n",
    "\n"
   ]
  },
  {
   "cell_type": "markdown",
   "metadata": {
    "id": "UIw4lSlc96Z9"
   },
   "source": [
    "P1 - if we stop producing a lot of meat, the natural resources of the planet will not be experiencing a big pressure.\n",
    "\n",
    "P2 - We don't stop producing a lot of meat\n",
    "\n",
    "P3 - That is why the natural resources of the planet will be experiencing a big pressure.\n",
    "\n",
    "P4 - Since the natural resources of the planet will be experiencing a big pressure, we have to pay more attention to the environment. \n",
    "\n",
    "X - Therefore, the diets of high-meat consumers should be shifted toward plant-based foods\n"
   ]
  },
  {
   "cell_type": "markdown",
   "metadata": {
    "id": "Jwoq0sui96Z-"
   },
   "source": [
    "### 1. Clearly identify the features of these arguments that make them deductive and explain why (<75 words).\n",
    "\n"
   ]
  },
  {
   "cell_type": "raw",
   "metadata": {
    "id": "_CeU7t0h96Z-"
   },
   "source": [
    "If the premises are true, it is logically impossible for the conclusion to be false (Relationships of necessity), because of the clear relationships between atomic sentences (deductive form). The conclusion's scope does not go beyond specified by the\n",
    "premises, so we start with meat overconsumption and end with the specific way to decrease it (from wide to narrow approach). It is rules-based, because it is built upon formal definitions, not observations. Indicator words: Therefore, should be shifted."
   ]
  },
  {
   "cell_type": "markdown",
   "metadata": {
    "id": "WuxxbP03tOjK"
   },
   "source": [
    "### 2. For the valid deduction:"
   ]
  },
  {
   "cell_type": "markdown",
   "metadata": {
    "id": "LPbvay6q96Z_"
   },
   "source": [
    "#### 2.1 Translate your argument into symbolic logic and provide brief commentary for how you developed the translation.\n"
   ]
  },
  {
   "cell_type": "markdown",
   "metadata": {
    "id": "Yj4I2CnTrBe-"
   },
   "source": [
    "1. Break down the argument into atomic sentenes\n",
    "2. Assign letters to the sentances. \n",
    "\n",
    "G = to produce one kilogram of beef requires 25 kilograms of grain to feed the animal\n",
    "\n",
    "W = to produce one kilogram of beef requires roughly 15,000 liters of water \n",
    "\n",
    "N = water is scarce in many parts of the world\n",
    "\n",
    "M = land is scarce in many parts of the world\n",
    "\n",
    "I =  excessive meat manufacture leads to inefficient use of resources\n",
    "\n",
    "C = the consumption of meat should be decreased\n",
    "\n",
    "S = we will devastate the resuorses of our planet\n",
    "\n",
    "X = the diets of high-meat consumers should be shifted toward plant-based foods\n",
    "\n",
    "3. Translate the sentences from natural language to symbolic language using the thanslation key above\n",
    "P1 - (G & W) = To produce one kilogram of beef requires 25 kilograms of grain to feed the animal and roughly 15,000 liters of water\n",
    "P2 - (N & M) = Water and land are scarce in many parts of the world\n",
    "\n",
    "P3 - (G & W) & (N & M) → I = To produce one kilogram of beef requires 25 kilograms of grain to feed the animal and roughly 15,000 liters of water. Water and land are scarce in many parts of the world. Therefore, excessive meat manufacture leads to inefficient use of resources. \n",
    "\n",
    "P4 - (I → C) = If excessive meat manufacture leads to inefficient use of resources, the consumption of meat should be decreased.\n",
    "\n",
    "P5 - (C v S) & ~(C & S) = Either we decrease the consumption of meant or we will devastate the resuorses of our planet.\n",
    "\n",
    "P6 - (~S → X) = If we don't want to devastate the resourses of our palnet, the diets of high-meat consumers should be shifted toward plant-based foods.\n",
    "\n",
    "X = Therefore, the diets of high-meat consumers should be shifted toward plant-based foods.\n",
    "\n",
    "4. I will write down all the premises and conclusion to make it more structured. \n",
    "Premises: G & W, N & M, (G & W) & (N & M) → I, I → C, (C v S) & ~(C & S), ~S → X\n",
    "Conclusion : X"
   ]
  },
  {
   "cell_type": "markdown",
   "metadata": {
    "id": "kAJ6wsTu96aA"
   },
   "source": [
    "#### 2.2 Choose two sentences from the argument and negate them using DeMorgan’s laws. Ideally, you should choose two sentences that have different logical connectives. Translate the negations back into English.\n"
   ]
  },
  {
   "cell_type": "markdown",
   "metadata": {
    "id": "Rv-KVvO4rBfA"
   },
   "source": [
    "1. Water and land are scarce in many parts of the world #original sentance in natural language\n",
    " \n",
    "N = water is scarce in many parts of the world                                  \n",
    "M = land is scarce in many parts of the world\n",
    "(N & M) -  translation to Sl\n",
    "\n",
    "\n",
    "De Morgan's :\n",
    "\n",
    "~(N & M) \n",
    "\n",
    "place negation sign before each atomic sentance \n",
    "\n",
    "~N & ~M  \n",
    "\n",
    "replace and(&) symbol with or(V) symbol\n",
    "\n",
    "~N V ~M     \n",
    "\n",
    "\n",
    "Translation back to natural language:\n",
    "\n",
    "Water is NOT scarce in many parts of the world or land is NOT scarce in many parts of the world\n",
    "\n",
    "2. Since the consumption of meat should be decreased, the diets of high-meat consumers should be shifted toward plant-based foods\n",
    "\n",
    "C = the consumption of meat should be decreased                                    \n",
    "X = the diets of high-meat consumers should be shifted toward plant-based foods\n",
    "translation to Sl\n",
    "C → X\n",
    "\n",
    "De Morgan's :\n",
    "\n",
    "~ (C → X) \n",
    "\n",
    "negate the antecedent\n",
    "\n",
    "~ (~C → X)   \n",
    "\n",
    "replace the conditional arrow(->) with or symbol('V')\n",
    "\n",
    "~ (~C V X)\n",
    "\n",
    "C & ~X\n",
    "\n",
    "Translation back to natural language:\n",
    "the consumption of meat should be decreased AND the diets of high-meat consumers should NOT be shifted toward plant-based foods\n"
   ]
  },
  {
   "cell_type": "markdown",
   "metadata": {
    "id": "kRfMhJEKrBfB"
   },
   "source": [
    "#### 2.3 Prove that the argument is indeed valid using a formal proof.\n",
    "\n"
   ]
  },
  {
   "cell_type": "markdown",
   "metadata": {
    "id": "xVSCP6yCrBfD"
   },
   "source": [
    "1. G & W\n",
    "2. N & M\n",
    "3. (G & W) & (N & M) → I\n",
    "4. I → C\n",
    "5. (C v S) & ~(C & S)\n",
    "6. ~S → X\n",
    "\n",
    "-----------\n",
    "7. (G & W) & (N & M)    1,2 adjunction\n",
    "8. I                    3,7 modus ponens\n",
    "9. C                    4,8 modus ponens\n",
    "10. ~(C & S)            5 equivalence\n",
    "11. ~C v ~S             10 de morgan's\n",
    "12. ~S                  9, 11 simplification\n",
    "13. X                   6, 12 modus popens\n",
    "Conclusion: X                     "
   ]
  },
  {
   "cell_type": "markdown",
   "metadata": {
    "id": "SVbul8AVrBfF"
   },
   "source": [
    "#### 2.4 Discuss the soundness of the argument (<100 words).\n",
    "\n"
   ]
  },
  {
   "cell_type": "markdown",
   "metadata": {
    "id": "IZCLHkXsrBfG"
   },
   "source": [
    "The argument is sound because it is both valid (that was proved in the question above) and the premises are true. The important thing is that both conditions are satisfied simultaneously, which makes the argument sound. It also can be understood in the way that premises are true in the real-life. The facts were taken from real articles and do not contradict good sense, make sense in the universe we live in, so that it is sound."
   ]
  },
  {
   "cell_type": "markdown",
   "metadata": {
    "id": "V7WJ4OZZrBfE"
   },
   "source": [
    "#### 2.5 *Optional*: Negate each of the premises of your argument and derive a valid conclusion, being sure to explain the derivation and comment on the soundness. If it is impossible to form a valid argument from these premises, explain why.\n"
   ]
  },
  {
   "cell_type": "markdown",
   "metadata": {
    "id": "hr_Y3mWKrBfF"
   },
   "source": [
    "1. Firslty I will negate each of the premises\n",
    "\n",
    "G & W = ~G v ~W \n",
    "\n",
    "N & M = ~N v ~M \n",
    "\n",
    "(G & W) & (N & M) → I = ~(~((G & W) & (N & M))) v I) = ~(~((G & W) & (N & M)) v I) = ~((~(G & W) v ~(N & M)) v I) =\n",
    "\n",
    "~(((~G v ~W) v (~N v ~M)) v I) = ~(~G v ~W) & ~(~N v ~M) & ~I = (~ ~ G & ~ ~ M) & (~ ~ N &~ ~ M) & ~I = (G & M) & (N & M) & ~I\n",
    "\n",
    "I → C = I & ~C\n",
    "\n",
    "(C v S) & ~(C & S) =  ~ (C v S) v ~ ~(C & S) =  (~C & ~S) v (C & S)\n",
    "\n",
    "~S → X = ~S & ~X\n",
    "\n",
    "Negated argument:\n",
    "\n",
    "1. ~G v ~W\n",
    "\n",
    "2. ~N v ~M\n",
    "\n",
    "3. (G & M) & (N & M) & ~I\n",
    "\n",
    "4. I & ~C\n",
    "\n",
    "5. (~C & ~S) v (C & S)\n",
    "\n",
    "6.  ~S & ~X\n",
    "\n",
    "------------------\n",
    "\n",
    "It is invalid because it contains a lot of contradictions. Premises 3 cannot be true due to 1 and 2 they are the parts of the 3rd and have the opposite value. In order for 3 to be true, all 3 parts of it should be true. \n",
    "Also, the 4th premise cannot be true since from the 3rd premise we can conclude about the negative value of I (~I), so the 4th cannot be true. \n",
    "\n",
    "\n",
    "\n"
   ]
  },
  {
   "cell_type": "markdown",
   "metadata": {
    "id": "Vrg0BWjU96aA"
   },
   "source": [
    "### 3. Python\n",
    "#### 3.1 Use Python to assess the validity of the argument. The code should output whether or not the argument is valid (it should be valid!) based on a truth table. You are not required to print the full truth table, but it might provide you with a helpful sanity check. You may use a similar code from session 5 (3.1), simply adapting it to your argument, or if you wish, write your own from scratch. The code from lesson 4 (2.2) may also be helpful. Whatever approach you take, you must clearly explain how the code works (as described below). \n",
    "\n",
    "#### As with any code, you need to include clearly annotated in-line comments to document what the code is doing and how it is using logic. Read this [resource](https://mikegrouchy.com/blog/yes-your-code-does-need-comments) about the importance of comments and [this one](https://realpython.com/python-comments-guide/) for further guidance.\n",
    "\n",
    "#### In addition to your brief in-line comments, you must also include an overarching explanation of what the code is doing as a whole in connection with #deduction. In particular, you should explain how the truth table is used to ascertain validity and how this logic concept is incorporated in the code (<150 words)."
   ]
  },
  {
   "cell_type": "code",
   "execution_count": 7,
   "metadata": {
    "id": "c6GGeTPo96aB"
   },
   "outputs": [
    {
     "name": "stdout",
     "output_type": "stream",
     "text": [
      "True True True True True True True True True True True False True True\n",
      "True True True True True True True True True True True False True False\n",
      "True True True True True True False True True True True True True True\n",
      "True True True True True True False True True True True True False False\n",
      "True True True True True False True True True True False True True True\n",
      "True True True True True False True True True True False True True False\n",
      "True True True True True False False True True True False False True True\n",
      "True True True True True False False True True True False False False False\n",
      "True True True True False True True True True False True False True True\n",
      "True True True True False True True True True False True False True False\n",
      "True True True True False True False True True False True True True True\n",
      "True True True True False True False True True False True True False False\n",
      "True True True True False False True True True False True True True True\n",
      "True True True True False False True True True False True True True False\n",
      "True True True True False False False True True False True False True True\n",
      "True True True True False False False True True False True False False False\n",
      "True True True False True True True True False True True False True True\n",
      "True True True False True True True True False True True False True False\n",
      "True True True False True True False True False True True True True True\n",
      "True True True False True True False True False True True True False False\n",
      "True True True False True False True True False True False True True True\n",
      "True True True False True False True True False True False True True False\n",
      "True True True False True False False True False True False False True True\n",
      "True True True False True False False True False True False False False False\n",
      "True True True False False True True True False True True False True True\n",
      "True True True False False True True True False True True False True False\n",
      "True True True False False True False True False True True True True True\n",
      "True True True False False True False True False True True True False False\n",
      "True True True False False False True True False True True True True True\n",
      "True True True False False False True True False True True True True False\n",
      "True True True False False False False True False True True False True True\n",
      "True True True False False False False True False True True False False False\n",
      "True True False True True True True True False True True False True True\n",
      "True True False True True True True True False True True False True False\n",
      "True True False True True True False True False True True True True True\n",
      "True True False True True True False True False True True True False False\n",
      "True True False True True False True True False True False True True True\n",
      "True True False True True False True True False True False True True False\n",
      "True True False True True False False True False True False False True True\n",
      "True True False True True False False True False True False False False False\n",
      "True True False True False True True True False True True False True True\n",
      "True True False True False True True True False True True False True False\n",
      "True True False True False True False True False True True True True True\n",
      "True True False True False True False True False True True True False False\n",
      "True True False True False False True True False True True True True True\n",
      "True True False True False False True True False True True True True False\n",
      "True True False True False False False True False True True False True True\n",
      "True True False True False False False True False True True False False False\n",
      "True True False False True True True True False True True False True True\n",
      "True True False False True True True True False True True False True False\n",
      "True True False False True True False True False True True True True True\n",
      "True True False False True True False True False True True True False False\n",
      "True True False False True False True True False True False True True True\n",
      "True True False False True False True True False True False True True False\n",
      "True True False False True False False True False True False False True True\n",
      "True True False False True False False True False True False False False False\n",
      "True True False False False True True True False True True False True True\n",
      "True True False False False True True True False True True False True False\n",
      "True True False False False True False True False True True True True True\n",
      "True True False False False True False True False True True True False False\n",
      "True True False False False False True True False True True True True True\n",
      "True True False False False False True True False True True True True False\n",
      "True True False False False False False True False True True False True True\n",
      "True True False False False False False True False True True False False False\n",
      "True False True True True True True False True True True False True True\n",
      "True False True True True True True False True True True False True False\n",
      "True False True True True True False False True True True True True True\n",
      "True False True True True True False False True True True True False False\n",
      "True False True True True False True False True True False True True True\n",
      "True False True True True False True False True True False True True False\n",
      "True False True True True False False False True True False False True True\n",
      "True False True True True False False False True True False False False False\n",
      "True False True True False True True False True True True False True True\n",
      "True False True True False True True False True True True False True False\n",
      "True False True True False True False False True True True True True True\n",
      "True False True True False True False False True True True True False False\n",
      "True False True True False False True False True True True True True True\n",
      "True False True True False False True False True True True True True False\n",
      "True False True True False False False False True True True False True True\n",
      "True False True True False False False False True True True False False False\n",
      "True False True False True True True False False True True False True True\n",
      "True False True False True True True False False True True False True False\n",
      "True False True False True True False False False True True True True True\n",
      "True False True False True True False False False True True True False False\n",
      "True False True False True False True False False True False True True True\n",
      "True False True False True False True False False True False True True False\n",
      "True False True False True False False False False True False False True True\n",
      "True False True False True False False False False True False False False False\n",
      "True False True False False True True False False True True False True True\n",
      "True False True False False True True False False True True False True False\n",
      "True False True False False True False False False True True True True True\n",
      "True False True False False True False False False True True True False False\n",
      "True False True False False False True False False True True True True True\n",
      "True False True False False False True False False True True True True False\n",
      "True False True False False False False False False True True False True True\n",
      "True False True False False False False False False True True False False False\n",
      "True False False True True True True False False True True False True True\n",
      "True False False True True True True False False True True False True False\n",
      "True False False True True True False False False True True True True True\n",
      "True False False True True True False False False True True True False False\n",
      "True False False True True False True False False True False True True True\n",
      "True False False True True False True False False True False True True False\n",
      "True False False True True False False False False True False False True True\n",
      "True False False True True False False False False True False False False False\n",
      "True False False True False True True False False True True False True True\n",
      "True False False True False True True False False True True False True False\n",
      "True False False True False True False False False True True True True True\n",
      "True False False True False True False False False True True True False False\n",
      "True False False True False False True False False True True True True True\n",
      "True False False True False False True False False True True True True False\n",
      "True False False True False False False False False True True False True True\n",
      "True False False True False False False False False True True False False False\n",
      "True False False False True True True False False True True False True True\n",
      "True False False False True True True False False True True False True False\n",
      "True False False False True True False False False True True True True True\n",
      "True False False False True True False False False True True True False False\n",
      "True False False False True False True False False True False True True True\n",
      "True False False False True False True False False True False True True False\n",
      "True False False False True False False False False True False False True True\n",
      "True False False False True False False False False True False False False False\n",
      "True False False False False True True False False True True False True True\n",
      "True False False False False True True False False True True False True False\n",
      "True False False False False True False False False True True True True True\n",
      "True False False False False True False False False True True True False False\n",
      "True False False False False False True False False True True True True True\n",
      "True False False False False False True False False True True True True False\n",
      "True False False False False False False False False True True False True True\n",
      "True False False False False False False False False True True False False False\n",
      "False True True True True True True False True True True False True True\n",
      "False True True True True True True False True True True False True False\n",
      "False True True True True True False False True True True True True True\n",
      "False True True True True True False False True True True True False False\n",
      "False True True True True False True False True True False True True True\n",
      "False True True True True False True False True True False True True False\n",
      "False True True True True False False False True True False False True True\n",
      "False True True True True False False False True True False False False False\n",
      "False True True True False True True False True True True False True True\n",
      "False True True True False True True False True True True False True False\n",
      "False True True True False True False False True True True True True True\n",
      "False True True True False True False False True True True True False False\n",
      "False True True True False False True False True True True True True True\n",
      "False True True True False False True False True True True True True False\n",
      "False True True True False False False False True True True False True True\n",
      "False True True True False False False False True True True False False False\n",
      "False True True False True True True False False True True False True True\n",
      "False True True False True True True False False True True False True False\n",
      "False True True False True True False False False True True True True True\n",
      "False True True False True True False False False True True True False False\n",
      "False True True False True False True False False True False True True True\n",
      "False True True False True False True False False True False True True False\n",
      "False True True False True False False False False True False False True True\n",
      "False True True False True False False False False True False False False False\n",
      "False True True False False True True False False True True False True True\n",
      "False True True False False True True False False True True False True False\n",
      "False True True False False True False False False True True True True True\n",
      "False True True False False True False False False True True True False False\n",
      "False True True False False False True False False True True True True True\n",
      "False True True False False False True False False True True True True False\n",
      "False True True False False False False False False True True False True True\n",
      "False True True False False False False False False True True False False False\n",
      "False True False True True True True False False True True False True True\n",
      "False True False True True True True False False True True False True False\n",
      "False True False True True True False False False True True True True True\n",
      "False True False True True True False False False True True True False False\n",
      "False True False True True False True False False True False True True True\n",
      "False True False True True False True False False True False True True False\n",
      "False True False True True False False False False True False False True True\n",
      "False True False True True False False False False True False False False False\n",
      "False True False True False True True False False True True False True True\n",
      "False True False True False True True False False True True False True False\n",
      "False True False True False True False False False True True True True True\n",
      "False True False True False True False False False True True True False False\n",
      "False True False True False False True False False True True True True True\n",
      "False True False True False False True False False True True True True False\n",
      "False True False True False False False False False True True False True True\n",
      "False True False True False False False False False True True False False False\n",
      "False True False False True True True False False True True False True True\n",
      "False True False False True True True False False True True False True False\n",
      "False True False False True True False False False True True True True True\n",
      "False True False False True True False False False True True True False False\n",
      "False True False False True False True False False True False True True True\n",
      "False True False False True False True False False True False True True False\n",
      "False True False False True False False False False True False False True True\n",
      "False True False False True False False False False True False False False False\n",
      "False True False False False True True False False True True False True True\n",
      "False True False False False True True False False True True False True False\n",
      "False True False False False True False False False True True True True True\n",
      "False True False False False True False False False True True True False False\n",
      "False True False False False False True False False True True True True True\n",
      "False True False False False False True False False True True True True False\n",
      "False True False False False False False False False True True False True True\n",
      "False True False False False False False False False True True False False False\n",
      "False False True True True True True False True True True False True True\n",
      "False False True True True True True False True True True False True False\n",
      "False False True True True True False False True True True True True True\n",
      "False False True True True True False False True True True True False False\n",
      "False False True True True False True False True True False True True True\n",
      "False False True True True False True False True True False True True False\n",
      "False False True True True False False False True True False False True True\n",
      "False False True True True False False False True True False False False False\n",
      "False False True True False True True False True True True False True True\n",
      "False False True True False True True False True True True False True False\n",
      "False False True True False True False False True True True True True True\n",
      "False False True True False True False False True True True True False False\n",
      "False False True True False False True False True True True True True True\n",
      "False False True True False False True False True True True True True False\n",
      "False False True True False False False False True True True False True True\n",
      "False False True True False False False False True True True False False False\n",
      "False False True False True True True False False True True False True True\n",
      "False False True False True True True False False True True False True False\n",
      "False False True False True True False False False True True True True True\n",
      "False False True False True True False False False True True True False False\n",
      "False False True False True False True False False True False True True True\n",
      "False False True False True False True False False True False True True False\n",
      "False False True False True False False False False True False False True True\n",
      "False False True False True False False False False True False False False False\n",
      "False False True False False True True False False True True False True True\n",
      "False False True False False True True False False True True False True False\n",
      "False False True False False True False False False True True True True True\n",
      "False False True False False True False False False True True True False False\n",
      "False False True False False False True False False True True True True True\n",
      "False False True False False False True False False True True True True False\n",
      "False False True False False False False False False True True False True True\n",
      "False False True False False False False False False True True False False False\n",
      "False False False True True True True False False True True False True True\n",
      "False False False True True True True False False True True False True False\n",
      "False False False True True True False False False True True True True True\n",
      "False False False True True True False False False True True True False False\n",
      "False False False True True False True False False True False True True True\n",
      "False False False True True False True False False True False True True False\n",
      "False False False True True False False False False True False False True True\n",
      "False False False True True False False False False True False False False False\n",
      "False False False True False True True False False True True False True True\n",
      "False False False True False True True False False True True False True False\n",
      "False False False True False True False False False True True True True True\n",
      "False False False True False True False False False True True True False False\n",
      "False False False True False False True False False True True True True True\n",
      "False False False True False False True False False True True True True False\n",
      "False False False True False False False False False True True False True True\n",
      "False False False True False False False False False True True False False False\n",
      "False False False False True True True False False True True False True True\n",
      "False False False False True True True False False True True False True False\n",
      "False False False False True True False False False True True True True True\n",
      "False False False False True True False False False True True True False False\n",
      "False False False False True False True False False True False True True True\n",
      "False False False False True False True False False True False True True False\n",
      "False False False False True False False False False True False False True True\n",
      "False False False False True False False False False True False False False False\n",
      "False False False False False True True False False True True False True True\n",
      "False False False False False True True False False True True False True False\n",
      "False False False False False True False False False True True True True True\n",
      "False False False False False True False False False True True True False False\n",
      "False False False False False False True False False True True True True True\n",
      "False False False False False False True False False True True True True False\n",
      "False False False False False False False False False True True False True True\n",
      "False False False False False False False False False True True False False False\n"
     ]
    },
    {
     "data": {
      "text/plain": [
       "'Valid'"
      ]
     },
     "execution_count": 7,
     "metadata": {},
     "output_type": "execute_result"
    }
   ],
   "source": [
    "def conditional_converter(a,b): #defining the function to calculate the result of conditional\n",
    "    return not a or b\n",
    "\n",
    "def valid_check():   #function to check validity\n",
    "    result = 'Valid' \n",
    "    for g in [True, False]:   #cerate truth talbe for atomic sentences\n",
    "        for w in [True, False]:\n",
    "            for n in [True, False]:\n",
    "                for m in [True, False]:\n",
    "                    for i in [True, False]:\n",
    "                        for c in [True, False]:\n",
    "                            for s in [True, False]:\n",
    "                                for x in [True, False]:\n",
    "                                    p1 = g and w  #define premises\n",
    "                                    p2 = n and m\n",
    "                                    p3 = conditional_converter(p1 and p2,i)  \n",
    "                                    p4 = conditional_converter(i,c)\n",
    "                                    p5 = (c or s) and  not (c and s)\n",
    "                                    p6 = conditional_converter(not s,x)\n",
    "                                    print(g, w, n, m, i, c, s, p1, p2, p3, p4, p5,p6, x)  #print truth table with atomic sentences and premises\n",
    "                                    if p1 and p2 and p3 and p4 and p5 and p6 and x == False:\n",
    "                                        result = 'Invalid'\n",
    "    \n",
    "    return result\n",
    "valid_check()"
   ]
  },
  {
   "cell_type": "markdown",
   "metadata": {
    "id": "iHx1tm18wHP1"
   },
   "source": [
    "Firstly, code defines the function to calculate conditional. Since there is no logical operator in python that will do the same as an arrow, I converted conditional to the logically equivalent sentence that can be calculated using python operators. \n",
    "Secon function - validity check. In the beginning,  the default result is set 'valid'. The next step - build the truth table for all the atomic sentences I have. After that, I defined premises using python operators and atomic sentences defined from the truth table. After it, the program prints the truth table with atomic sentences,  premises, and conclusion. The next step is to check the validity. Since we need only 1 sentence to prove that it is invalid. I use for loop that checks all the rows for the case of invalidity, if finds, the result is set to invalid. If there is no such sentence, it is valid as default. \n"
   ]
  },
  {
   "cell_type": "markdown",
   "metadata": {
    "id": "CIZxbM8nrBfN"
   },
   "source": [
    "#### 3.2 *Optional challenge*: Write your own Python code that will create a truth table for any logical statement involving any number of atomic sentences and connectives. You can decide on the input/output format, but explain in detail what you are doing and why. In particular, be sure to explain why your work constitutes an effective application of #algorithms.\n"
   ]
  },
  {
   "cell_type": "code",
   "execution_count": null,
   "metadata": {
    "id": "0DO3xJrLrBfO"
   },
   "outputs": [],
   "source": [
    "# write your code for 3.2 (optional) here"
   ]
  },
  {
   "cell_type": "markdown",
   "metadata": {
    "id": "CC_6UoKlrBfU"
   },
   "source": [
    "#### 3.3 *Optional super challenge*: Write your own Python code that will check the validity of any set of logical sentences that form an argument. Explain in detail how your code works. You can decide on the input/output format, but explain in detail what you are doing and why. Additionally, be sure to comment on why your work constitutes an effective application of #algorithms"
   ]
  },
  {
   "cell_type": "code",
   "execution_count": null,
   "metadata": {
    "id": "ueNROMgKrBfW"
   },
   "outputs": [],
   "source": [
    "# write your code for 3.3 (optional) here"
   ]
  },
  {
   "cell_type": "markdown",
   "metadata": {
    "id": "ExUp-7Gw96aE"
   },
   "source": [
    "### 4. For the fallacious argument (<200 words): \n",
    "#### 4.1 Name the type of fallacy or fallacies involved and justify the fallacious nature of the argument by explaining the flaw in logic.\n",
    "#### 4.2 Explain how the fallacy or fallacies could be corrected and the effect of the correction on the meaning of the conclusion and/or premises. \n",
    "#### (Translating this part of the argument into symbolic logic is not required but could be useful for your explanations.)\n"
   ]
  },
  {
   "cell_type": "markdown",
   "metadata": {
    "id": "HzSWEXPfxpUi"
   },
   "source": [
    "P1 - if we stop producing a lot of meat, the natural resources of the planet will not be experiencing a big pressure.\n",
    "\n",
    "P2 - We don't stop producing a lot of meat\n",
    "\n",
    "P3 - That is why the natural resources of the planet will be experiencing a big pressure.\n",
    "\n",
    "P4 - Since the natural resources of the planet will be experiencing a big pressure, we have to pay more attention to the environemant. \n",
    "\n",
    "Therefore, the diets of high-meat consumers should be shifted toward plant-based foods\n",
    "\n",
    "\n",
    "A - we stop producing a lot of meat\n",
    "\n",
    "B - the natural resources of the planet will be experiencing a big pressure by the meat manufacturing industry\n",
    "\n",
    "C - The diets of high-meat consumers should be shifted toward plant-based foods\n",
    "\n",
    "D - we have to pay more attention to the environemant. \n",
    "\n",
    "\n",
    "\n",
    "P1 - A -> ~B\n",
    "\n",
    "P2 - ~A\n",
    "\n",
    "P3 - B\n",
    "\n",
    "P4 - B -> D\n",
    "\n",
    "Therefore, C\n"
   ]
  },
  {
   "cell_type": "markdown",
   "metadata": {
    "id": "YsxkPDx1rBfb"
   },
   "source": [
    "This argument contains 2 fallacies: formal (denying the antecedent) and informal (fallacy of relevance).\n",
    "\n",
    "Denying the antecedent is in P1 - P3.  It can result from the misleading with modus tollens when we can deny the consequent to conclude about the negative value of the antecedent (if the argument is true). We cannot do vice-versa because if the antecedent is false, the consequent still can be true. For example, the argument F -> T will be evaluated as true. The only case when the consequent may be false and the argument true is F→F, so it implies the consequence for the antecedent to be false if the consequent is also false. \n",
    "The way to mitigate is by making a biconditional so that denying any part will enable us to conclude that the other one is false too. \n",
    "\n",
    "The fallacy of relevance is in P3 - conclusion. Although the premises establish a conclusion, it is not relevant to the premises it was concluded from. The rule used is right but its implementation is wrong. According to the modus ponens, in this case, the conclusion should be D. \n",
    "The way to mitigate is by adding an additional premise to show the relationship between P4 and conclusion(for example D->C)"
   ]
  },
  {
   "cell_type": "markdown",
   "metadata": {
    "id": "y2oG5Knl96aF"
   },
   "source": [
    "## **<font color='orange'>PART 2</font>**\n",
    "#### For the competing stance (Y), craft two brief arguments using inductive reasoning (please see the guidance provided above for how to construct your arguments from your chosen question). One argument should be a strong induction and one should contain a fallacy. [#induction, #fallacies]"
   ]
  },
  {
   "cell_type": "markdown",
   "metadata": {
    "id": "jhYuhbS00f69"
   },
   "source": [
    "Big Question: How should we feed the world?\n",
    "Y = The diets of high-meat consumers should not be shifted toward plant-based foods"
   ]
  },
  {
   "cell_type": "markdown",
   "metadata": {
    "id": "HQvBDgr596aG"
   },
   "source": [
    "A longitudinal study of 14,247 young women found that 30 percent of vegetarians and semi-vegetarians had experienced depression in the previous 12 months, compared to 20 percent of non-vegetarian women. (Baines, 2007)\n",
    "\n",
    "On average, vegans with lower calcium and protein intakes saw a 43 percent higher risk of fractures anywhere on their bodies, and specifically in the hips, legs and vertebrae.(BMC (BioMed Central))\n",
    "\n",
    "In this new study, Professor Tom Sanders - emeritus professor of nutrition & dietetics at King’s College London explained that one in five vegans are at grave risk of being deficient in Vitamin B12, which can have irreversible effects if left untreated\n",
    "\n",
    "It is probable that the decrease in meat consumption may lead to severe consequences on our health.\n",
    "\n",
    "That is why diets of high-meat consumers should not be shifted toward plant-based foods.\n",
    "\n",
    "\n",
    "\n",
    "References:\n",
    "\n",
    "Herzog, H. (2018). The Baffling Connection Between Vegetarianism and Depression. Psychology Today. https://www.psychologytoday.com/us/blog/animals-and-us/201812/the-baffling-connection-between-vegetarianism-and-depression \n",
    "\n",
    "Woods, A. (2020b, November 23). Vegans are 43 percent more likely to suffer bone fractures, study shows. New York Post. https://nypost.com/2020/11/23/vegans-43-percent-more-likely-to-suffer-bone-fractures-study-shows/\n",
    "\n",
    "Mandal, A., MD. (2019, December 23). Vegans at risk of vitamin B12 deficiency finds study. News-Medical.Net. https://www.news-medical.net/news/20191222/Vegans-at-risk-of-vitamin-B12-deficiency-finds-study.aspx\n"
   ]
  },
  {
   "cell_type": "markdown",
   "metadata": {
    "id": "oGNqAhO3rBfg"
   },
   "source": [
    "All the vegans I have met told me that it is really difficult to stick to their diet\n",
    "\n",
    "The majority of the population continues eating meat, so most probably eating meat is right\n",
    "\n",
    "Either I continue eating meat, or I will be struggling with a severe protein deficiency.\n",
    "\n",
    "My grandmother always told me that eating meat is very important\n",
    "\n",
    "That is why diets of high-meat consumers should not be shifted toward plant-based foods."
   ]
  },
  {
   "cell_type": "markdown",
   "metadata": {
    "id": "cGww68OA96aG"
   },
   "source": [
    "### 1. Clearly identify the features of these arguments that make them inductive and explain why (<75 words).\n",
    "\n"
   ]
  },
  {
   "cell_type": "markdown",
   "metadata": {
    "id": "kN-8LmvT96aH"
   },
   "source": [
    "They are inductive because there is no logical correspondence that makes it impossible for the conclusion to be false when the premises are true, sensibility permits this scenario.(relationships of necessity rule). Premises (vitamins deficiency, depressions, etc) are applied to things different from the conclusion (diet change). The premises are based on observation and the conclusion is supported by evidence(statistics data) rather than rules. Indicator words: most probably, I have met, may lead."
   ]
  },
  {
   "cell_type": "markdown",
   "metadata": {
    "id": "ZISzYUb996aH"
   },
   "source": [
    "### 2. For the strong induction (<200 words): \n",
    "#### 2.1 Is this a specific type of induction? Which type, and why?\n",
    "#### 2.2 Elaborate on the strength and reliability of the argument. Explain how the argument could be made more reliable (including by increasing the strength).\n",
    "\n",
    "\n"
   ]
  },
  {
   "cell_type": "markdown",
   "metadata": {
    "id": "1t-aEk7IrBfl"
   },
   "source": [
    "This argument combines several types of inductive reasoning: statistical generalization, since the source of the premises are studies conducted by researchers that examine a certain pool of representatives and make conclusions about the whole group. Another type included is the appeal to authority since the studies were conducted by world-known institutions as for example, King's College London.\n",
    "It is strong since the conclusion likely follows from the premises because all the premises are either true or acceptable. Premises provides probable and logical support for the conclusion. \n",
    "It is reliable because it is likely to be true because there were used 2 main approaches for reliability increase. The first one is the support of the statistical data from reliable studies. The use of concrete numbers makes the argument more likely to be true. The second one is the diversity of premises. The conclusion is supported by diverse evidence that makes the whole picture more full and contributes to the flow of the argument. The conclusion is supported by the observatiosn that were conducted on the different levels of analysis. It could be made even more reliable if additional statistics were introduced and the variety of evidence was increased. \n",
    "\n"
   ]
  },
  {
   "cell_type": "markdown",
   "metadata": {
    "id": "mOYH0yys96aJ"
   },
   "source": [
    "### 3. For the fallacious argument (<200 words): \n",
    "#### 3.1 Name the type of fallacy or fallacies involved and justify the fallacious nature of the argument by explaining the flaw in logic.\n",
    "#### 3.2 Explain how the fallacy or fallacies could be corrected and the effect of the correction on the meaning of the conclusion and/or premises."
   ]
  },
  {
   "cell_type": "markdown",
   "metadata": {
    "id": "UxmDeUqQyK4e"
   },
   "source": [
    "P1 - All the vegans I have met told me that it is really difficult to stick to their diet\n",
    "\n",
    "P2 - The majority of the population continues eating meat, so most probablyeating meat is right\n",
    "\n",
    "P3 - Either I continue eating meat, or I will be struggling with a severe protein deficiency.\n",
    "\n",
    "P4 - My grandmother always told me that eating meat is very important\n",
    "\n",
    "That is why diets of high-meat consumers should not be shifted toward plant-based foods."
   ]
  },
  {
   "cell_type": "markdown",
   "metadata": {
    "id": "gAbwhF5LyK4g"
   },
   "source": [
    "P1 - hasty generalization. The number of examples studied is not sufficient to make a conclusion. It could be corrected if the studied sample were increased. Correction: \"From the pool of 100,000 vegans questioned, 99,000 reported that it is really difficult to stick to their diet\"\n",
    "\n",
    "P2 - bandwagon argument. It appeals to the idea that the majority is always right. To correct we have to provide arguments explaining why the majority favors it. Example: \"The majority of the population continues eating meat because it contains a lot of useful vitamins. So, eating meat is right\"\n",
    "\n",
    "P3 - false dichotomy. It is an oversimplified argument that assumes that there are only 2 sides of a situation although there are more. To correct this, we have to show that 2 premises are not mutually exclusive. Example: “I continue eating meat, or I will be struggling with a severe protein deficiency or I will find another source of protein to support my body\"\n",
    "\n",
    "P4 - inappropriate appeal to authority. A grandmother is not a qualified source of information on this topic. Correction: \"My grandmother, why is Ph.D. in nutrition always told me that eating meat is very important\"\n",
    "\n",
    "If all those fallacies were corrected it would be obvious that neither of them supports the conclusion enough to make it likely to be true. \n"
   ]
  },
  {
   "cell_type": "markdown",
   "metadata": {
    "id": "34a3R2eT96aK"
   },
   "source": [
    "## **<font color='orange'>REFLECTION</font>**\n",
    "\n",
    "### Write a reflection about how you approached this assignment and what you learned. Address the following points. [#scienceoflearning]\n",
    "\n",
    "- While working on this assignment, how did the principles from the science of learning deepen your knowledge of #induction, #deduction, #algorithms, and #fallacies while working on this assignment? (<100 words)\n",
    "\n",
    "- Throughout both sections, what did you learn about the connection between formal logic, language, computer code, and the use of logical thinking in the real world? (<100 words)\n"
   ]
  },
  {
   "cell_type": "markdown",
   "metadata": {
    "id": "LaAGOt8ArBfs"
   },
   "source": [
    "I found useful the combination of desirable difficulty with deliberate practice. The material was often challenging for understanding but it was sparked my interest even more. Also, since each new concept, we were learning was based on the previous one the spaced practice was used within the deliberate practice (I had to remember previous concepts to build on that knowledge new ones.) I wrote answers to all the study guide’s questions in my notes and those questions were like chunks for me. There was a lot of new information and it helped me to sort it into “boxes” in my head and make learning more structured and effective. \n",
    "Formal logic connects natural language and computer code, it basically translates the natural language in the form that can be understood and processed by the computer. Logical thinking is a crucial skill to have not only for people related to computer science whose job is based on applying logic to find the solutions but also for everyone else. We can easily be manipulated but understanding how logical reasoning works and being able to find fallacies in foe example media and political’s reasoning is crucial to keep your free choice free. \n",
    "\n"
   ]
  },
  {
   "cell_type": "markdown",
   "metadata": {
    "id": "yYJ11MAn96aL"
   },
   "source": [
    "### *Optional reflection questions*\n",
    "\n",
    "These will only be scored if the application makes a sufficiently strong connection with an HC, constituting “deep” (4-level) knowledge, so please tag an HC using the guidelines in the full assignment instructions in Forum. Besides the logical thinking HCs targeted on this assignment, you might consider #critique for the first question and #gapanalysis for the second.\n",
    "\n",
    "#### *Optional* 1: What side of the claim do you believe was argued more effectively and why? Consider applying #critique.  (<200 words)"
   ]
  },
  {
   "cell_type": "markdown",
   "metadata": {
    "id": "u6XvIE6YrBfu"
   },
   "source": [
    "The “X” side of the claim to which deductive reasoning was applied was argued more. \n",
    "Firstly, the number of arguments the supported the claim was bigger, since this claim is proved by a lot of studies and is considered to be true. The reason for it was the fact that this claim is the real solution to one of the subproblems of a global problem of feeding the world. So, there is a lot of research behind it and it was easier to find the arguments in support of the claim “X”.\n",
    " Secondly, arguments were well-qualified, since the premises were short and clear,  it was easy to support them because of the amount of statistical data from researches. \n",
    "Thirdly, it was argued more effectively, since a logical flow is more structured than the one of inductive argument. Given that the argument was deductive, interconnections between the premises were clear and logical, so that it was obvious when there was a lack of support to an argument so that I could easily identify and correct all the weak places. The arguments were directly connected to each other creating a good logical flow that clearly presented the step-by-step investigation and support of the claim. \n",
    "\n"
   ]
  },
  {
   "cell_type": "markdown",
   "metadata": {
    "id": "dPVnuZHR96aM"
   },
   "source": [
    "#### *Optional* 2: Create a new assignment problem for future classes that you think is a good test of the skills covered by one or more of these HCs. Provide the complete step-by-step solution, and a justification for why this is a good assignment problem. It should be entirely different from this assignment (consider applying #gapanalysis). *The FA team would like to thank Dima Lkhagvatogtokh (M22) and Silen Naihin (M24) for their submissions to this question in 2018 and 2020; together, their ideas formed the basis for the assignment that you just completed!*\n",
    "\n"
   ]
  },
  {
   "cell_type": "markdown",
   "metadata": {
    "id": "irIZ8Mc8rBfw"
   },
   "source": [
    "→ Write your explanation here for the second optional reflection question."
   ]
  },
  {
   "cell_type": "markdown",
   "metadata": {
    "id": "gLG7YeDnrBfx"
   },
   "source": [
    "## **<font color='orange'>YOU'RE DONE!</font>**\n",
    "\n",
    "You must upload TWO files:\n",
    "\n",
    "\n",
    "1. Primary: A **PDF** of your entire assignment. A PDF of your entire assignment. This is to be submitted as a separate file, NOT simply inside the zipped folder. Email attachments will not be accepted. We encourage students to follow the tips available in [this guide](https://docs.google.com/document/d/1gRMol9Ebbvyu1mvEKzma92o_N7ZbNXsPIb1QdQV0TeE/edit?usp=sharing), *especially the best practices listed at the end*. \n",
    "\n",
    "2. Secondary: A **zipped folder** containing the .ipynb file and any other relevant files for running the notebook."
   ]
  }
 ],
 "metadata": {
  "colab": {
   "collapsed_sections": [],
   "name": "CS50 Assignment 1 Notebook 2021 - Logical Thinking.ipynb",
   "provenance": [
    {
     "file_id": "1dI21Ctfv7CqhQoGWw6enwM4-5da6AqQ6",
     "timestamp": 1630705076255
    }
   ]
  },
  "kernelspec": {
   "display_name": "Python 3",
   "language": "python",
   "name": "python3"
  },
  "language_info": {
   "codemirror_mode": {
    "name": "ipython",
    "version": 3
   },
   "file_extension": ".py",
   "mimetype": "text/x-python",
   "name": "python",
   "nbconvert_exporter": "python",
   "pygments_lexer": "ipython3",
   "version": "3.8.8"
  }
 },
 "nbformat": 4,
 "nbformat_minor": 1
}
